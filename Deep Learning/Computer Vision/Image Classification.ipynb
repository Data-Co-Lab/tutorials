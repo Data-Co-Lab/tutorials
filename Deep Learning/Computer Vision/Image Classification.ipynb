{
 "cells": [
  {
   "cell_type": "markdown",
   "metadata": {},
   "source": [
    "## Image Classification \n",
    "###  [Challenge on Kaggle](https://www.kaggle.com/c/gdg-manouba-challenge/leaderboard)"
   ]
  },
  {
   "cell_type": "markdown",
   "metadata": {},
   "source": [
    "#### Importing Librairies"
   ]
  },
  {
   "cell_type": "code",
   "execution_count": 1,
   "metadata": {},
   "outputs": [],
   "source": [
    "import glob\n",
    "import cv2\n",
    "import numpy as np\n",
    "from numpy import array\n",
    "from numpy import argmax\n",
    "from sklearn.preprocessing import LabelEncoder\n",
    "from sklearn.preprocessing import OneHotEncoder\n",
    "import pandas as pd\n",
    "import matplotlib.pyplot as plt\n",
    "from os import walk\n",
    "import warnings\n",
    "warnings.filterwarnings(\"ignore\")"
   ]
  },
  {
   "cell_type": "markdown",
   "metadata": {},
   "source": [
    "#### Importing Train images"
   ]
  },
  {
   "cell_type": "code",
   "execution_count": 2,
   "metadata": {},
   "outputs": [],
   "source": [
    "images = [cv2.imread(file) for file in glob.glob(\"train/*.png\")]"
   ]
  },
  {
   "cell_type": "markdown",
   "metadata": {},
   "source": [
    "#### Quick Plot of an image"
   ]
  },
  {
   "cell_type": "code",
   "execution_count": 3,
   "metadata": {},
   "outputs": [
    {
     "data": {
      "text/plain": [
       "<matplotlib.image.AxesImage at 0x7f3d9a66d080>"
      ]
     },
     "execution_count": 3,
     "metadata": {},
     "output_type": "execute_result"
    },
    {
     "data": {
      "image/png": "[encoded data removed]",
      "text/plain": [
       "<Figure size 432x288 with 1 Axes>"
      ]
     },
     "metadata": {
      "needs_background": "light"
     },
     "output_type": "display_data"
    }
   ],
   "source": [
    "plt.imshow(images[0])"
   ]
  },
  {
   "cell_type": "markdown",
   "metadata": {},
   "source": [
    "#### Images classes are in the pictures names, these classes are : Dog, Cat, Bird, Hourse, Deer, Frog, Truck, Ship,Airplane,Automobile,"
   ]
  },
  {
   "cell_type": "code",
   "execution_count": 4,
   "metadata": {},
   "outputs": [],
   "source": [
    "f = []\n",
    "for (dirpath, dirnames, filenames) in walk(\"train/\"):\n",
    "    f.extend(filenames)\n",
    "    break"
   ]
  },
  {
   "cell_type": "code",
   "execution_count": 5,
   "metadata": {},
   "outputs": [
    {
     "data": {
      "text/plain": [
       "['24346_horse.png',\n",
       " '3777_ship.png',\n",
       " '34844_horse.png',\n",
       " '20247_horse.png',\n",
       " '24947_dog.png']"
      ]
     },
     "execution_count": 5,
     "metadata": {},
     "output_type": "execute_result"
    }
   ],
   "source": [
    "f[:5]"
   ]
  },
  {
   "cell_type": "markdown",
   "metadata": {},
   "source": [
    "#### Now we will remove the number and .png"
   ]
  },
  {
   "cell_type": "code",
   "execution_count": 6,
   "metadata": {},
   "outputs": [],
   "source": [
    "names = []\n",
    "for name in f:\n",
    "    name=name[name.find('_')+1:]\n",
    "    name=name.replace(\".png\",\"\")\n",
    "    names.append(name)\n",
    "    "
   ]
  },
  {
   "cell_type": "code",
   "execution_count": 7,
   "metadata": {},
   "outputs": [
    {
     "data": {
      "text/plain": [
       "['horse', 'ship', 'horse', 'horse', 'dog']"
      ]
     },
     "execution_count": 7,
     "metadata": {},
     "output_type": "execute_result"
    }
   ],
   "source": [
    "names[:5]"
   ]
  },
  {
   "cell_type": "markdown",
   "metadata": {},
   "source": [
    "### A colored image is presented with 3 matrices, for Red, Green and Blue. The matrix dimension is the same as the image dimension in pixels. each pixel can take a value from 0 to 255. We will devide each value in every matrix by 255 to normalize its values"
   ]
  },
  {
   "cell_type": "code",
   "execution_count": 8,
   "metadata": {},
   "outputs": [],
   "source": [
    "train = []\n",
    "for image in images:\n",
    "    image=image/255\n",
    "    train.append(image)"
   ]
  },
  {
   "cell_type": "markdown",
   "metadata": {},
   "source": [
    "#### Before training the model, first we will use a technique called 'One-hot Encoding'. In short, we will be presenting each class with a vector with a single value set to '1' while others are set to '0'"
   ]
  },
  {
   "cell_type": "code",
   "execution_count": 9,
   "metadata": {},
   "outputs": [
    {
     "name": "stdout",
     "output_type": "stream",
     "text": [
      "['horse' 'ship' 'horse' ... 'deer' 'bird' 'bird']\n"
     ]
    }
   ],
   "source": [
    "# define example\n",
    "values = array(names)\n",
    "print(values)"
   ]
  },
  {
   "cell_type": "code",
   "execution_count": 10,
   "metadata": {},
   "outputs": [
    {
     "name": "stdout",
     "output_type": "stream",
     "text": [
      "[7 8 7 ... 4 2 2]\n"
     ]
    }
   ],
   "source": [
    "# integer encode\n",
    "label_encoder = LabelEncoder()\n",
    "integer_encoded = label_encoder.fit_transform(names)\n",
    "print(integer_encoded)"
   ]
  },
  {
   "cell_type": "code",
   "execution_count": 11,
   "metadata": {},
   "outputs": [
    {
     "name": "stdout",
     "output_type": "stream",
     "text": [
      "[[0. 0. 0. ... 1. 0. 0.]\n",
      " [0. 0. 0. ... 0. 1. 0.]\n",
      " [0. 0. 0. ... 1. 0. 0.]\n",
      " ...\n",
      " [0. 0. 0. ... 0. 0. 0.]\n",
      " [0. 0. 1. ... 0. 0. 0.]\n",
      " [0. 0. 1. ... 0. 0. 0.]]\n"
     ]
    }
   ],
   "source": [
    "# binary encode\n",
    "onehot_encoder = OneHotEncoder(sparse=False)\n",
    "integer_encoded = integer_encoded.reshape(len(integer_encoded), 1)\n",
    "onehot_encoded = onehot_encoder.fit_transform(integer_encoded)\n",
    "print(onehot_encoded)"
   ]
  },
  {
   "cell_type": "code",
   "execution_count": 12,
   "metadata": {},
   "outputs": [],
   "source": [
    "#Convert the list to an array\n",
    "onehot_encoded = np.array(onehot_encoded[:50000])"
   ]
  },
  {
   "cell_type": "code",
   "execution_count": 13,
   "metadata": {},
   "outputs": [],
   "source": [
    "Train = np.array(train)"
   ]
  },
  {
   "cell_type": "code",
   "execution_count": 14,
   "metadata": {},
   "outputs": [],
   "source": [
    "Train=Train.astype('float32')"
   ]
  },
  {
   "cell_type": "code",
   "execution_count": 15,
   "metadata": {},
   "outputs": [
    {
     "name": "stderr",
     "output_type": "stream",
     "text": [
      "Using TensorFlow backend.\n"
     ]
    }
   ],
   "source": [
    "import keras as keras\n",
    "from keras.layers.convolutional import Conv2D\n",
    "from keras.models import Sequential\n",
    "from keras.layers import Dense, Activation,MaxPooling2D,Dropout,Flatten\n",
    "from keras.layers.normalization import BatchNormalization"
   ]
  },
  {
   "cell_type": "markdown",
   "metadata": {},
   "source": [
    "#### We will use a 2D convolution neural network model, composed of : \n",
    "1. __Conv2D:__ 2D convolution layer\n",
    "2. __MaxPooling2D:__ Check [Here](https://www.quora.com/What-is-max-pooling-in-convolutional-neural-networks) for more explanation \n",
    "3. __Dropout:__ randomly setting a fraction rate of input units to 0 at each update during training time, which helps prevent overfitting.\n",
    "4. __Flatten:__ transform a two-dimensional matrix of features into a vector\n",
    "5. __Dense:__ it is used to change the dimensions of your vector (apply a Rotation), we use __Softmax__ in the last layer to map the non-normalized output of our network to a probability distribution over predicted output classes.\n",
    "#### You can check [Keras documentation](https://keras.io) for more details \n"
   ]
  },
  {
   "cell_type": "code",
   "execution_count": 16,
   "metadata": {},
   "outputs": [
    {
     "name": "stdout",
     "output_type": "stream",
     "text": [
      "WARNING:tensorflow:From /home/badri/.conda/envs/Vynd/lib/python3.6/site-packages/tensorflow/python/ops/resource_variable_ops.py:435: colocate_with (from tensorflow.python.framework.ops) is deprecated and will be removed in a future version.\n",
      "Instructions for updating:\n",
      "Colocations handled automatically by placer.\n"
     ]
    }
   ],
   "source": [
    "model = Sequential()\n",
    "\n",
    "model.add(Conv2D(32,(3,3),  padding='same', activation='relu', input_shape=(32, 32,3))) \n",
    "#Image representation : 32px*32px for 3 matrices    \n",
    "model.add(Conv2D(32, (3,3), padding='same', activation='relu')) \n",
    "model.add(MaxPooling2D(pool_size=(2,2)))# (16,16,32)\n",
    "model.add(Dropout(0.25))\n",
    "\n",
    "model.add(Conv2D(64,(3,3),   padding='same', activation='relu'))   \n",
    "model.add(Conv2D(64, (3,3),  padding='same', activation='relu')) \n",
    "model.add(MaxPooling2D(pool_size=(2,2)))# (8,8,64)\n",
    "model.add(Dropout(0.25))\n",
    "\n",
    "model.add(Conv2D(64,(3,3),   padding='same', activation='relu'))   \n",
    "model.add(Conv2D(64, (3,3),  padding='same', activation='relu')) \n",
    "model.add(MaxPooling2D(pool_size=(2,2)))# (4,4,128)\n",
    "model.add(Dropout(0.25))\n",
    "\n",
    "model.add(Flatten())\n",
    "model.add(Dense(512, activation='relu'))\n",
    "model.add(Dropout(0.5))\n",
    "model.add(Dense(10, activation='softmax'))   # Final Layer using Softmax\n"
   ]
  },
  {
   "cell_type": "markdown",
   "metadata": {},
   "source": [
    "#### Compile and check the model summary"
   ]
  },
  {
   "cell_type": "code",
   "execution_count": 17,
   "metadata": {},
   "outputs": [],
   "source": [
    "model.compile(loss='categorical_crossentropy', optimizer='adam', metrics=['accuracy'])"
   ]
  },
  {
   "cell_type": "code",
   "execution_count": 18,
   "metadata": {},
   "outputs": [
    {
     "name": "stdout",
     "output_type": "stream",
     "text": [
      "Model: \"sequential_1\"\n",
      "_________________________________________________________________\n",
      "Layer (type)                 Output Shape              Param #   \n",
      "=================================================================\n",
      "conv2d_1 (Conv2D)            (None, 32, 32, 32)        896       \n",
      "_________________________________________________________________\n",
      "conv2d_2 (Conv2D)            (None, 32, 32, 32)        9248      \n",
      "_________________________________________________________________\n",
      "max_pooling2d_1 (MaxPooling2 (None, 16, 16, 32)        0         \n",
      "_________________________________________________________________\n",
      "dropout_1 (Dropout)          (None, 16, 16, 32)        0         \n",
      "_________________________________________________________________\n",
      "conv2d_3 (Conv2D)            (None, 16, 16, 64)        18496     \n",
      "_________________________________________________________________\n",
      "conv2d_4 (Conv2D)            (None, 16, 16, 64)        36928     \n",
      "_________________________________________________________________\n",
      "max_pooling2d_2 (MaxPooling2 (None, 8, 8, 64)          0         \n",
      "_________________________________________________________________\n",
      "dropout_2 (Dropout)          (None, 8, 8, 64)          0         \n",
      "_________________________________________________________________\n",
      "conv2d_5 (Conv2D)            (None, 8, 8, 64)          36928     \n",
      "_________________________________________________________________\n",
      "conv2d_6 (Conv2D)            (None, 8, 8, 64)          36928     \n",
      "_________________________________________________________________\n",
      "max_pooling2d_3 (MaxPooling2 (None, 4, 4, 64)          0         \n",
      "_________________________________________________________________\n",
      "dropout_3 (Dropout)          (None, 4, 4, 64)          0         \n",
      "_________________________________________________________________\n",
      "flatten_1 (Flatten)          (None, 1024)              0         \n",
      "_________________________________________________________________\n",
      "dense_1 (Dense)              (None, 512)               524800    \n",
      "_________________________________________________________________\n",
      "dropout_4 (Dropout)          (None, 512)               0         \n",
      "_________________________________________________________________\n",
      "dense_2 (Dense)              (None, 10)                5130      \n",
      "=================================================================\n",
      "Total params: 669,354\n",
      "Trainable params: 669,354\n",
      "Non-trainable params: 0\n",
      "_________________________________________________________________\n"
     ]
    }
   ],
   "source": [
    "model.summary()"
   ]
  },
  {
   "cell_type": "markdown",
   "metadata": {},
   "source": [
    "#### We train the model with 80% of our data, and use the 20% remaining for validation"
   ]
  },
  {
   "cell_type": "code",
   "execution_count": 19,
   "metadata": {},
   "outputs": [
    {
     "name": "stdout",
     "output_type": "stream",
     "text": [
      "WARNING:tensorflow:From /home/badri/.conda/envs/Vynd/lib/python3.6/site-packages/tensorflow/python/ops/math_ops.py:3066: to_int32 (from tensorflow.python.ops.math_ops) is deprecated and will be removed in a future version.\n",
      "Instructions for updating:\n",
      "Use tf.cast instead.\n",
      "Train on 40000 samples, validate on 10000 samples\n",
      "Epoch 1/50\n",
      "40000/40000 [==============================] - 96s 2ms/step - loss: 1.7147 - accuracy: 0.3646 - val_loss: 1.2973 - val_accuracy: 0.5279\n",
      "Epoch 2/50\n",
      "40000/40000 [==============================] - 80s 2ms/step - loss: 1.2802 - accuracy: 0.5361 - val_loss: 1.0918 - val_accuracy: 0.6068\n",
      "Epoch 3/50\n",
      "40000/40000 [==============================] - 71s 2ms/step - loss: 1.1182 - accuracy: 0.5986 - val_loss: 1.0105 - val_accuracy: 0.6356\n",
      "Epoch 4/50\n",
      "40000/40000 [==============================] - 68s 2ms/step - loss: 1.0149 - accuracy: 0.6376 - val_loss: 0.8779 - val_accuracy: 0.6839\n",
      "Epoch 5/50\n",
      "40000/40000 [==============================] - 68s 2ms/step - loss: 0.9466 - accuracy: 0.6647 - val_loss: 0.8414 - val_accuracy: 0.7059\n",
      "Epoch 6/50\n",
      "40000/40000 [==============================] - 68s 2ms/step - loss: 0.8931 - accuracy: 0.6831 - val_loss: 0.8640 - val_accuracy: 0.6963\n",
      "Epoch 7/50\n",
      "40000/40000 [==============================] - 56s 1ms/step - loss: 0.8655 - accuracy: 0.6961 - val_loss: 0.7768 - val_accuracy: 0.7231\n",
      "Epoch 8/50\n",
      "40000/40000 [==============================] - 56s 1ms/step - loss: 0.8244 - accuracy: 0.7093 - val_loss: 0.7988 - val_accuracy: 0.7238\n",
      "Epoch 9/50\n",
      "40000/40000 [==============================] - 57s 1ms/step - loss: 0.8080 - accuracy: 0.7182 - val_loss: 0.7139 - val_accuracy: 0.7526\n",
      "Epoch 10/50\n",
      "40000/40000 [==============================] - 56s 1ms/step - loss: 0.7896 - accuracy: 0.7235 - val_loss: 0.7061 - val_accuracy: 0.7570\n",
      "Epoch 11/50\n",
      "40000/40000 [==============================] - 57s 1ms/step - loss: 0.7672 - accuracy: 0.7301 - val_loss: 0.6942 - val_accuracy: 0.7537\n",
      "Epoch 12/50\n",
      "40000/40000 [==============================] - 73s 2ms/step - loss: 0.7538 - accuracy: 0.7348 - val_loss: 0.7095 - val_accuracy: 0.7534\n",
      "Epoch 13/50\n",
      "40000/40000 [==============================] - 93s 2ms/step - loss: 0.7354 - accuracy: 0.7394 - val_loss: 0.6873 - val_accuracy: 0.7575\n",
      "Epoch 14/50\n",
      "40000/40000 [==============================] - 80s 2ms/step - loss: 0.7312 - accuracy: 0.7426 - val_loss: 0.7233 - val_accuracy: 0.7501\n",
      "Epoch 15/50\n",
      "40000/40000 [==============================] - 69s 2ms/step - loss: 0.7166 - accuracy: 0.7456 - val_loss: 0.6603 - val_accuracy: 0.7679\n",
      "Epoch 16/50\n",
      "40000/40000 [==============================] - 73s 2ms/step - loss: 0.7085 - accuracy: 0.7513 - val_loss: 0.6895 - val_accuracy: 0.7640\n",
      "Epoch 17/50\n",
      "40000/40000 [==============================] - 66s 2ms/step - loss: 0.6951 - accuracy: 0.7556 - val_loss: 0.6865 - val_accuracy: 0.7656\n",
      "Epoch 18/50\n",
      "40000/40000 [==============================] - 67s 2ms/step - loss: 0.6950 - accuracy: 0.7577 - val_loss: 0.6989 - val_accuracy: 0.7566\n",
      "Epoch 19/50\n",
      "40000/40000 [==============================] - 69s 2ms/step - loss: 0.6893 - accuracy: 0.7590 - val_loss: 0.6590 - val_accuracy: 0.7755\n",
      "Epoch 20/50\n",
      "40000/40000 [==============================] - 69s 2ms/step - loss: 0.6835 - accuracy: 0.7614 - val_loss: 0.7011 - val_accuracy: 0.7567\n",
      "Epoch 21/50\n",
      "40000/40000 [==============================] - 69s 2ms/step - loss: 0.6829 - accuracy: 0.7608 - val_loss: 0.6686 - val_accuracy: 0.7692\n",
      "Epoch 22/50\n",
      "40000/40000 [==============================] - 70s 2ms/step - loss: 0.6741 - accuracy: 0.7651 - val_loss: 0.6369 - val_accuracy: 0.7798\n",
      "Epoch 23/50\n",
      "40000/40000 [==============================] - 69s 2ms/step - loss: 0.6647 - accuracy: 0.7656 - val_loss: 0.6441 - val_accuracy: 0.7788\n",
      "Epoch 24/50\n",
      "40000/40000 [==============================] - 69s 2ms/step - loss: 0.6658 - accuracy: 0.7683 - val_loss: 0.6943 - val_accuracy: 0.7672\n",
      "Epoch 25/50\n",
      "40000/40000 [==============================] - 70s 2ms/step - loss: 0.6593 - accuracy: 0.7701 - val_loss: 0.6620 - val_accuracy: 0.7742\n",
      "Epoch 26/50\n",
      "40000/40000 [==============================] - 70s 2ms/step - loss: 0.6529 - accuracy: 0.7709 - val_loss: 0.6958 - val_accuracy: 0.7662\n",
      "Epoch 27/50\n",
      "40000/40000 [==============================] - 69s 2ms/step - loss: 0.6488 - accuracy: 0.7737 - val_loss: 0.6629 - val_accuracy: 0.7787\n",
      "Epoch 28/50\n",
      "40000/40000 [==============================] - 70s 2ms/step - loss: 0.6415 - accuracy: 0.7736 - val_loss: 0.6391 - val_accuracy: 0.7831\n",
      "Epoch 29/50\n",
      "40000/40000 [==============================] - 70s 2ms/step - loss: 0.6549 - accuracy: 0.7713 - val_loss: 0.6523 - val_accuracy: 0.7767\n",
      "Epoch 30/50\n",
      "40000/40000 [==============================] - 70s 2ms/step - loss: 0.6417 - accuracy: 0.7740 - val_loss: 0.7084 - val_accuracy: 0.7585\n",
      "Epoch 31/50\n",
      "40000/40000 [==============================] - 70s 2ms/step - loss: 0.6363 - accuracy: 0.7764 - val_loss: 0.6470 - val_accuracy: 0.7786\n",
      "Epoch 32/50\n",
      "40000/40000 [==============================] - 70s 2ms/step - loss: 0.6340 - accuracy: 0.7774 - val_loss: 0.6280 - val_accuracy: 0.7852\n",
      "Epoch 33/50\n",
      "40000/40000 [==============================] - 70s 2ms/step - loss: 0.6324 - accuracy: 0.7784 - val_loss: 0.6260 - val_accuracy: 0.7929\n",
      "Epoch 34/50\n",
      "40000/40000 [==============================] - 70s 2ms/step - loss: 0.6249 - accuracy: 0.7803 - val_loss: 0.6929 - val_accuracy: 0.7737\n",
      "Epoch 35/50\n",
      "40000/40000 [==============================] - 62s 2ms/step - loss: 0.6252 - accuracy: 0.7823 - val_loss: 0.6424 - val_accuracy: 0.7886\n",
      "Epoch 36/50\n",
      "40000/40000 [==============================] - 61s 2ms/step - loss: 0.6277 - accuracy: 0.7799 - val_loss: 0.6417 - val_accuracy: 0.7758\n",
      "Epoch 37/50\n",
      "40000/40000 [==============================] - 61s 2ms/step - loss: 0.6295 - accuracy: 0.7796 - val_loss: 0.6391 - val_accuracy: 0.7783\n",
      "Epoch 38/50\n",
      "40000/40000 [==============================] - 62s 2ms/step - loss: 0.6232 - accuracy: 0.7832 - val_loss: 0.6524 - val_accuracy: 0.7802\n",
      "Epoch 39/50\n",
      "40000/40000 [==============================] - 62s 2ms/step - loss: 0.6173 - accuracy: 0.7842 - val_loss: 0.6516 - val_accuracy: 0.7804\n",
      "Epoch 40/50\n",
      "40000/40000 [==============================] - 62s 2ms/step - loss: 0.6285 - accuracy: 0.7832 - val_loss: 0.6418 - val_accuracy: 0.7844\n",
      "Epoch 41/50\n",
      "40000/40000 [==============================] - 62s 2ms/step - loss: 0.6189 - accuracy: 0.7829 - val_loss: 0.6207 - val_accuracy: 0.7909\n",
      "Epoch 42/50\n",
      "40000/40000 [==============================] - 62s 2ms/step - loss: 0.6179 - accuracy: 0.7857 - val_loss: 0.6560 - val_accuracy: 0.7806\n",
      "Epoch 43/50\n",
      "40000/40000 [==============================] - 62s 2ms/step - loss: 0.6087 - accuracy: 0.7873 - val_loss: 0.6365 - val_accuracy: 0.7857\n",
      "Epoch 44/50\n",
      "40000/40000 [==============================] - 62s 2ms/step - loss: 0.6080 - accuracy: 0.7877 - val_loss: 0.6412 - val_accuracy: 0.7797\n",
      "Epoch 45/50\n",
      "40000/40000 [==============================] - 62s 2ms/step - loss: 0.6154 - accuracy: 0.7846 - val_loss: 0.6371 - val_accuracy: 0.7882\n",
      "Epoch 46/50\n",
      "40000/40000 [==============================] - 62s 2ms/step - loss: 0.6104 - accuracy: 0.7869 - val_loss: 0.6336 - val_accuracy: 0.7888\n",
      "Epoch 47/50\n",
      "40000/40000 [==============================] - 66s 2ms/step - loss: 0.6098 - accuracy: 0.7903 - val_loss: 0.6548 - val_accuracy: 0.7803\n",
      "Epoch 48/50\n",
      "40000/40000 [==============================] - 65s 2ms/step - loss: 0.5963 - accuracy: 0.7925 - val_loss: 0.6499 - val_accuracy: 0.7811\n",
      "Epoch 49/50\n",
      "40000/40000 [==============================] - 91s 2ms/step - loss: 0.6030 - accuracy: 0.7885 - val_loss: 0.6676 - val_accuracy: 0.7794\n",
      "Epoch 50/50\n",
      "40000/40000 [==============================] - 65s 2ms/step - loss: 0.6085 - accuracy: 0.7880 - val_loss: 0.6373 - val_accuracy: 0.7873\n"
     ]
    }
   ],
   "source": [
    "hist = model.fit(Train,onehot_encoded,batch_size=32,epochs=50,validation_split=0.2)"
   ]
  },
  {
   "cell_type": "markdown",
   "metadata": {},
   "source": [
    "#### We've reached an accurency of 78% based on the validation data"
   ]
  },
  {
   "cell_type": "markdown",
   "metadata": {},
   "source": [
    "#### We save the model future user or further improvement"
   ]
  },
  {
   "cell_type": "code",
   "execution_count": 20,
   "metadata": {},
   "outputs": [],
   "source": [
    "model.save('model.bin')"
   ]
  },
  {
   "cell_type": "markdown",
   "metadata": {},
   "source": [
    "#### Now we load the test data, and predict the results"
   ]
  },
  {
   "cell_type": "code",
   "execution_count": 36,
   "metadata": {},
   "outputs": [],
   "source": [
    "Test=[]\n",
    "for i in range (10000):\n",
    "    path = \"test/\"+ str(i) + \".png\"\n",
    "    img = cv2.imread(path)/255\n",
    "    Test.append(img)"
   ]
  },
  {
   "cell_type": "code",
   "execution_count": 37,
   "metadata": {},
   "outputs": [],
   "source": [
    "Test=np.array(Test).astype('float32')"
   ]
  },
  {
   "cell_type": "code",
   "execution_count": 38,
   "metadata": {},
   "outputs": [],
   "source": [
    "preds=model.predict_classes(Test)"
   ]
  },
  {
   "cell_type": "markdown",
   "metadata": {},
   "source": [
    "#### Now we reverse the encoding to restore each class name as demanded"
   ]
  },
  {
   "cell_type": "code",
   "execution_count": 40,
   "metadata": {},
   "outputs": [],
   "source": [
    "Pred=list(label_encoder.inverse_transform(preds))"
   ]
  },
  {
   "cell_type": "markdown",
   "metadata": {},
   "source": [
    "#### Let's write the submission file"
   ]
  },
  {
   "cell_type": "code",
   "execution_count": 42,
   "metadata": {},
   "outputs": [],
   "source": [
    "Sub = pd.read_csv('submission.csv')"
   ]
  },
  {
   "cell_type": "code",
   "execution_count": 43,
   "metadata": {},
   "outputs": [],
   "source": [
    "for i in range (len(Preds)):\n",
    "    Sub.at[i,'label']=Preds[i]"
   ]
  },
  {
   "cell_type": "code",
   "execution_count": 44,
   "metadata": {},
   "outputs": [],
   "source": [
    "Sub.index=Sub.index.astype('int')"
   ]
  },
  {
   "cell_type": "code",
   "execution_count": 45,
   "metadata": {},
   "outputs": [
    {
     "data": {
      "text/html": [
       "<div>\n",
       "<style scoped>\n",
       "    .dataframe tbody tr th:only-of-type {\n",
       "        vertical-align: middle;\n",
       "    }\n",
       "\n",
       "    .dataframe tbody tr th {\n",
       "        vertical-align: top;\n",
       "    }\n",
       "\n",
       "    .dataframe thead th {\n",
       "        text-align: right;\n",
       "    }\n",
       "</style>\n",
       "<table border=\"1\" class=\"dataframe\">\n",
       "  <thead>\n",
       "    <tr style=\"text-align: right;\">\n",
       "      <th></th>\n",
       "      <th>index</th>\n",
       "      <th>label</th>\n",
       "    </tr>\n",
       "  </thead>\n",
       "  <tbody>\n",
       "    <tr>\n",
       "      <th>0</th>\n",
       "      <td>0</td>\n",
       "      <td>cat</td>\n",
       "    </tr>\n",
       "    <tr>\n",
       "      <th>1</th>\n",
       "      <td>1</td>\n",
       "      <td>ship</td>\n",
       "    </tr>\n",
       "    <tr>\n",
       "      <th>2</th>\n",
       "      <td>2</td>\n",
       "      <td>ship</td>\n",
       "    </tr>\n",
       "    <tr>\n",
       "      <th>3</th>\n",
       "      <td>3</td>\n",
       "      <td>airplane</td>\n",
       "    </tr>\n",
       "    <tr>\n",
       "      <th>4</th>\n",
       "      <td>4</td>\n",
       "      <td>frog</td>\n",
       "    </tr>\n",
       "  </tbody>\n",
       "</table>\n",
       "</div>"
      ],
      "text/plain": [
       "   index     label\n",
       "0      0       cat\n",
       "1      1      ship\n",
       "2      2      ship\n",
       "3      3  airplane\n",
       "4      4      frog"
      ]
     },
     "execution_count": 45,
     "metadata": {},
     "output_type": "execute_result"
    }
   ],
   "source": [
    "Sub.head()"
   ]
  },
  {
   "cell_type": "code",
   "execution_count": 46,
   "metadata": {},
   "outputs": [],
   "source": [
    "Sub.to_csv('Submission.csv',index=False)"
   ]
  },
  {
   "cell_type": "markdown",
   "metadata": {},
   "source": [
    "#### Our submission got 78.32%, wich is identical to our training results\n",
    "![alt text](Submission.png )"
   ]
  },
  {
   "cell_type": "markdown",
   "metadata": {},
   "source": [
    "### This model can be further improved, by adding more layers, adjusting some parameters, so feel free to try it yourself "
   ]
  },
  {
   "cell_type": "code",
   "execution_count": null,
   "metadata": {},
   "outputs": [],
   "source": []
  }
 ],
 "metadata": {
  "kernelspec": {
   "display_name": "Python 3",
   "language": "python",
   "name": "python3"
  },
  "language_info": {
   "codemirror_mode": {
    "name": "ipython",
    "version": 3
   },
   "file_extension": ".py",
   "mimetype": "text/x-python",
   "name": "python",
   "nbconvert_exporter": "python",
   "pygments_lexer": "ipython3",
   "version": "3.6.9"
  }
 },
 "nbformat": 4,
 "nbformat_minor": 2
}