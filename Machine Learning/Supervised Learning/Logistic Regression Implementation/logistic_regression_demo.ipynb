{
  "nbformat": 4,
  "nbformat_minor": 0,
  "metadata": {
    "colab": {
      "name": "logistic regression testing",
      "provenance": [],
      "collapsed_sections": []
    },
    "kernelspec": {
      "name": "python3",
      "display_name": "Python 3"
    }
  },
  "cells": [
    {
      "cell_type": "markdown",
      "metadata": {
        "id": "WWc6krExmzWl",
        "colab_type": "text"
      },
      "source": [
        "# Logistic Regression Implementation - from scratch !\n",
        "\n",
        "- In this implementation, I've build the general architecture of a learning algorithm, according to the logistic regression function, including:\n",
        "    - Initializing parameters.\n",
        "    - Calculating the cost function and its gradient.\n",
        "    - Providing a method for Calculating the accuracy and loss metrics, when verbosity is on.\n",
        "    - Using an optimization algorithm (gradient descent) for the back propagation.\n",
        "    - Vectorized Calculations for optimizing the execution time.\n",
        "    - A demo for showing how it works !\n",
        "\n",
        "*Note : This implementation was made for learning purposes, it's not meant to be used in a real-world application, at least for the moment!*    "
      ]
    },
    {
      "cell_type": "markdown",
      "metadata": {
        "id": "7deES_MJod-u",
        "colab_type": "text"
      },
      "source": [
        "# 1. Loading the implementation"
      ]
    },
    {
      "cell_type": "code",
      "metadata": {
        "id": "DMlDbGKqYq0Z",
        "colab_type": "code",
        "outputId": "33817f9a-8a01-4065-8e18-2d6ec6660743",
        "colab": {
          "base_uri": "https://localhost:8080/",
          "height": 119
        }
      },
      "source": [
        "!git clone https://github.com/taherromdhane/logistic-regression-implementation.git"
      ],
      "execution_count": 9,
      "outputs": [
        {
          "output_type": "stream",
          "text": [
            "Cloning into 'logistic-regression-implementation'...\n",
            "remote: Enumerating objects: 41, done.\u001b[K\n",
            "remote: Counting objects:   2% (1/41)\u001b[K\rremote: Counting objects:   4% (2/41)\u001b[K\rremote: Counting objects:   7% (3/41)\u001b[K\rremote: Counting objects:   9% (4/41)\u001b[K\rremote: Counting objects:  12% (5/41)\u001b[K\rremote: Counting objects:  14% (6/41)\u001b[K\rremote: Counting objects:  17% (7/41)\u001b[K\rremote: Counting objects:  19% (8/41)\u001b[K\rremote: Counting objects:  21% (9/41)\u001b[K\rremote: Counting objects:  24% (10/41)\u001b[K\rremote: Counting objects:  26% (11/41)\u001b[K\rremote: Counting objects:  29% (12/41)\u001b[K\rremote: Counting objects:  31% (13/41)\u001b[K\rremote: Counting objects:  34% (14/41)\u001b[K\rremote: Counting objects:  36% (15/41)\u001b[K\rremote: Counting objects:  39% (16/41)\u001b[K\rremote: Counting objects:  41% (17/41)\u001b[K\rremote: Counting objects:  43% (18/41)\u001b[K\rremote: Counting objects:  46% (19/41)\u001b[K\rremote: Counting objects:  48% (20/41)\u001b[K\rremote: Counting objects:  51% (21/41)\u001b[K\rremote: Counting objects:  53% (22/41)\u001b[K\rremote: Counting objects:  56% (23/41)\u001b[K\rremote: Counting objects:  58% (24/41)\u001b[K\rremote: Counting objects:  60% (25/41)\u001b[K\rremote: Counting objects:  63% (26/41)\u001b[K\rremote: Counting objects:  65% (27/41)\u001b[K\rremote: Counting objects:  68% (28/41)\u001b[K\rremote: Counting objects:  70% (29/41)\u001b[K\rremote: Counting objects:  73% (30/41)\u001b[K\rremote: Counting objects:  75% (31/41)\u001b[K\rremote: Counting objects:  78% (32/41)\u001b[K\rremote: Counting objects:  80% (33/41)\u001b[K\rremote: Counting objects:  82% (34/41)\u001b[K\rremote: Counting objects:  85% (35/41)\u001b[K\rremote: Counting objects:  87% (36/41)\u001b[K\rremote: Counting objects:  90% (37/41)\u001b[K\rremote: Counting objects:  92% (38/41)\u001b[K\rremote: Counting objects:  95% (39/41)\u001b[K\rremote: Counting objects:  97% (40/41)\u001b[K\rremote: Counting objects: 100% (41/41)\u001b[K\rremote: Counting objects: 100% (41/41), done.\u001b[K\n",
            "remote: Compressing objects:   3% (1/28)\u001b[K\rremote: Compressing objects:   7% (2/28)\u001b[K\rremote: Compressing objects:  10% (3/28)\u001b[K\rremote: Compressing objects:  14% (4/28)\u001b[K\rremote: Compressing objects:  17% (5/28)\u001b[K\rremote: Compressing objects:  21% (6/28)\u001b[K\rremote: Compressing objects:  25% (7/28)\u001b[K\rremote: Compressing objects:  28% (8/28)\u001b[K\rremote: Compressing objects:  32% (9/28)\u001b[K\rremote: Compressing objects:  35% (10/28)\u001b[K\rremote: Compressing objects:  39% (11/28)\u001b[K\rremote: Compressing objects:  42% (12/28)\u001b[K\rremote: Compressing objects:  46% (13/28)\u001b[K\rremote: Compressing objects:  50% (14/28)\u001b[K\rremote: Compressing objects:  53% (15/28)\u001b[K\rremote: Compressing objects:  57% (16/28)\u001b[K\rremote: Compressing objects:  60% (17/28)\u001b[K\rremote: Compressing objects:  64% (18/28)\u001b[K\rremote: Compressing objects:  67% (19/28)\u001b[K\rremote: Compressing objects:  71% (20/28)\u001b[K\rremote: Compressing objects:  75% (21/28)\u001b[K\rremote: Compressing objects:  78% (22/28)\u001b[K\rremote: Compressing objects:  82% (23/28)\u001b[K\rremote: Compressing objects:  85% (24/28)\u001b[K\rremote: Compressing objects:  89% (25/28)\u001b[K\rremote: Compressing objects:  92% (26/28)\u001b[K\rremote: Compressing objects:  96% (27/28)\u001b[K\rremote: Compressing objects: 100% (28/28)\u001b[K\rremote: Compressing objects: 100% (28/28), done.\u001b[K\n",
            "remote: Total 41 (delta 24), reused 30 (delta 13), pack-reused 0\u001b[K\n",
            "Unpacking objects:   2% (1/41)   \rUnpacking objects:   4% (2/41)   \rUnpacking objects:   7% (3/41)   \rUnpacking objects:   9% (4/41)   \rUnpacking objects:  12% (5/41)   \rUnpacking objects:  14% (6/41)   \rUnpacking objects:  17% (7/41)   \rUnpacking objects:  19% (8/41)   \rUnpacking objects:  21% (9/41)   \rUnpacking objects:  24% (10/41)   \rUnpacking objects:  26% (11/41)   \rUnpacking objects:  29% (12/41)   \rUnpacking objects:  31% (13/41)   \rUnpacking objects:  34% (14/41)   \rUnpacking objects:  36% (15/41)   \rUnpacking objects:  39% (16/41)   \rUnpacking objects:  41% (17/41)   \rUnpacking objects:  43% (18/41)   \rUnpacking objects:  46% (19/41)   \rUnpacking objects:  48% (20/41)   \rUnpacking objects:  51% (21/41)   \rUnpacking objects:  53% (22/41)   \rUnpacking objects:  56% (23/41)   \rUnpacking objects:  58% (24/41)   \rUnpacking objects:  60% (25/41)   \rUnpacking objects:  63% (26/41)   \rUnpacking objects:  65% (27/41)   \rUnpacking objects:  68% (28/41)   \rUnpacking objects:  70% (29/41)   \rUnpacking objects:  73% (30/41)   \rUnpacking objects:  75% (31/41)   \rUnpacking objects:  78% (32/41)   \rUnpacking objects:  80% (33/41)   \rUnpacking objects:  82% (34/41)   \rUnpacking objects:  85% (35/41)   \rUnpacking objects:  87% (36/41)   \rUnpacking objects:  90% (37/41)   \rUnpacking objects:  92% (38/41)   \rUnpacking objects:  95% (39/41)   \rUnpacking objects:  97% (40/41)   \rUnpacking objects: 100% (41/41)   \rUnpacking objects: 100% (41/41), done.\n"
          ],
          "name": "stdout"
        }
      ]
    },
    {
      "cell_type": "code",
      "metadata": {
        "id": "CZnDCZtaYzKT",
        "colab_type": "code",
        "outputId": "e2f82cf9-ff46-496c-e535-fa3a155f2239",
        "colab": {
          "base_uri": "https://localhost:8080/",
          "height": 34
        }
      },
      "source": [
        "%cd logistic-regression-implementation/"
      ],
      "execution_count": 10,
      "outputs": [
        {
          "output_type": "stream",
          "text": [
            "/content/logistic-regression-implementation\n"
          ],
          "name": "stdout"
        }
      ]
    },
    {
      "cell_type": "markdown",
      "metadata": {
        "id": "JrnUy7waowY0",
        "colab_type": "text"
      },
      "source": [
        "# 2. Loading the dataset"
      ]
    },
    {
      "cell_type": "markdown",
      "metadata": {
        "id": "NBBnWprdosUo",
        "colab_type": "text"
      },
      "source": [
        "we first load some libraries we'll need later"
      ]
    },
    {
      "cell_type": "code",
      "metadata": {
        "id": "wt48BufzZfr8",
        "colab_type": "code",
        "colab": {}
      },
      "source": [
        "import numpy as np \n",
        "import matplotlib.pyplot as plt"
      ],
      "execution_count": 0,
      "outputs": []
    },
    {
      "cell_type": "markdown",
      "metadata": {
        "id": "MSPVkaxlo24b",
        "colab_type": "text"
      },
      "source": [
        "We load the digits dataset from the sklearn library. The digits dataset is one of datasets scikit-learn comes with that do not require the downloading of any file from some external website. The code below will load the digits dataset. "
      ]
    },
    {
      "cell_type": "code",
      "metadata": {
        "id": "o15KraSnR1XU",
        "colab_type": "code",
        "colab": {}
      },
      "source": [
        "from sklearn.datasets import load_digits\n",
        "digits = load_digits()"
      ],
      "execution_count": 0,
      "outputs": []
    },
    {
      "cell_type": "markdown",
      "metadata": {
        "id": "K0XRtzavo7_k",
        "colab_type": "text"
      },
      "source": [
        "We visualize some of the elements to see what we'll be working on. It usually helps to visualize your data prior to working with it to get a feel for the required work."
      ]
    },
    {
      "cell_type": "code",
      "metadata": {
        "id": "FYeGZXH7aCEQ",
        "colab_type": "code",
        "outputId": "95a6759c-1c18-4350-9381-c92e1bdd7506",
        "colab": {
          "base_uri": "https://localhost:8080/",
          "height": 283
        }
      },
      "source": [
        "plt.figure(figsize=(20,4))\n",
        "for index, (image, label) in enumerate(zip(digits.data[0:5], digits.target[0:5])):\n",
        " plt.subplot(1, 5, index + 1)\n",
        " plt.imshow(np.reshape(image, (8,8)), cmap=plt.cm.gray)\n",
        " plt.title('Training: %i\\n' % label, fontsize = 20)"
      ],
      "execution_count": 13,
      "outputs": [
        {
          "output_type": "display_data",
          "data": {
            "image/png": "[encoded data removed]",
            "text/plain": [
              "<Figure size 1440x288 with 5 Axes>"
            ]
          },
          "metadata": {
            "tags": []
          }
        }
      ]
    },
    {
      "cell_type": "markdown",
      "metadata": {
        "id": "lpld2it0pbzF",
        "colab_type": "text"
      },
      "source": [
        "We make training and test sets to make sure that after we train our classification algorithm, it is able to generalize well to new data."
      ]
    },
    {
      "cell_type": "code",
      "metadata": {
        "id": "dfKGFbKYZi0T",
        "colab_type": "code",
        "colab": {}
      },
      "source": [
        "from sklearn.model_selection import train_test_split\n",
        "x_train, x_test, y_train, y_test = train_test_split(digits.data, digits.target, test_size=0.25, random_state=0)"
      ],
      "execution_count": 0,
      "outputs": []
    },
    {
      "cell_type": "markdown",
      "metadata": {
        "id": "oEyvigvVpcwE",
        "colab_type": "text"
      },
      "source": [
        "We see that we have 1797 images in total. This is not much but for the sake of this demo it's enough to show how the model functions."
      ]
    },
    {
      "cell_type": "code",
      "metadata": {
        "id": "NPCuK1I6vfrc",
        "colab_type": "code",
        "outputId": "0c1a03b6-5411-420a-b3dc-3ff2d0ba0cef",
        "colab": {
          "base_uri": "https://localhost:8080/",
          "height": 51
        }
      },
      "source": [
        "print(x_train.shape)\n",
        "print(x_test.shape)"
      ],
      "execution_count": 15,
      "outputs": [
        {
          "output_type": "stream",
          "text": [
            "(1347, 64)\n",
            "(450, 64)\n"
          ],
          "name": "stdout"
        }
      ]
    },
    {
      "cell_type": "markdown",
      "metadata": {
        "id": "jzioL4x-qO4C",
        "colab_type": "text"
      },
      "source": [
        "# 3. Preprocessing the Data"
      ]
    },
    {
      "cell_type": "markdown",
      "metadata": {
        "id": "IBtNxBJBpnIz",
        "colab_type": "text"
      },
      "source": [
        "We one-hot encode the data, which means we create a column for each value in the target classes, and we put 1 for a certain sample if it corresponds to that target class, else we put 0. This is necessary for the logistic regression model. "
      ]
    },
    {
      "cell_type": "code",
      "metadata": {
        "id": "MDtqwU9WUtFF",
        "colab_type": "code",
        "colab": {}
      },
      "source": [
        "def one_hot(a, num_classes):\n",
        "  return np.squeeze(np.eye(num_classes)[a.reshape(-1)])"
      ],
      "execution_count": 0,
      "outputs": []
    },
    {
      "cell_type": "code",
      "metadata": {
        "id": "sq5qcefAUwLi",
        "colab_type": "code",
        "colab": {}
      },
      "source": [
        "y_train = one_hot(y_train, 10)\n",
        "y_test = one_hot(y_test, 10)"
      ],
      "execution_count": 0,
      "outputs": []
    },
    {
      "cell_type": "markdown",
      "metadata": {
        "id": "J1uLRJbjqAIp",
        "colab_type": "text"
      },
      "source": [
        "This is an example of on-hot encoding, we can see that the first target is 2, so we put a '1' in the corresponding column, and so on for the other ones."
      ]
    },
    {
      "cell_type": "code",
      "metadata": {
        "id": "RTDslDYBp9Cs",
        "colab_type": "code",
        "colab": {
          "base_uri": "https://localhost:8080/",
          "height": 187
        },
        "outputId": "988ceb48-be41-4053-8a9b-e3522c1f0f16"
      },
      "source": [
        "y_train[:10, ]"
      ],
      "execution_count": 33,
      "outputs": [
        {
          "output_type": "execute_result",
          "data": {
            "text/plain": [
              "array([[0., 0., 1., 0., 0., 0., 0., 0., 0., 0.],\n",
              "       [0., 0., 0., 0., 0., 0., 0., 0., 1., 0.],\n",
              "       [0., 0., 0., 0., 0., 0., 0., 0., 0., 1.],\n",
              "       [0., 0., 0., 0., 0., 0., 0., 1., 0., 0.],\n",
              "       [0., 0., 1., 0., 0., 0., 0., 0., 0., 0.],\n",
              "       [0., 1., 0., 0., 0., 0., 0., 0., 0., 0.],\n",
              "       [0., 0., 0., 0., 1., 0., 0., 0., 0., 0.],\n",
              "       [0., 0., 0., 0., 0., 0., 0., 0., 0., 1.],\n",
              "       [0., 0., 0., 1., 0., 0., 0., 0., 0., 0.],\n",
              "       [0., 0., 1., 0., 0., 0., 0., 0., 0., 0.]])"
            ]
          },
          "metadata": {
            "tags": []
          },
          "execution_count": 33
        }
      ]
    },
    {
      "cell_type": "markdown",
      "metadata": {
        "id": "vsZUS5RCqMTQ",
        "colab_type": "text"
      },
      "source": [
        "# 4. Training the model"
      ]
    },
    {
      "cell_type": "markdown",
      "metadata": {
        "id": "Qxc_gDf_qWah",
        "colab_type": "text"
      },
      "source": [
        "Here we fit the model to the data, or in another terms 'train' it on the training data. The parameters that we can specify for the moment are the 'learning_rate' and the 'loss' metric (which depends on wether it's a multi-classification problem or a binary-classification one).\n",
        "For the 'fit' method, the 'epochs' denote how many iterations the model will make, the 'verbose' is after how many epochs it will print the metrics as well as the cost values (in order to monitor the performance of the model). Finally, the 'metrics' is an array that has the metrics it will take into account."
      ]
    },
    {
      "cell_type": "code",
      "metadata": {
        "id": "tBFfEo6sR2Ci",
        "colab_type": "code",
        "outputId": "285ca6dd-9a2c-4147-e039-502507507213",
        "colab": {
          "base_uri": "https://localhost:8080/",
          "height": 717
        }
      },
      "source": [
        "from logistic_regression import LogisticRegression\n",
        "logreg = LogisticRegression(learning_rate = 0.002, loss='categorical_crossentropy')\n",
        "history = logreg.fit(x_train, y_train, x_test, y_test, epochs=2000, verbose=100, metrics=['accuracy', 'loss'])"
      ],
      "execution_count": 20,
      "outputs": [
        {
          "output_type": "stream",
          "text": [
            "epoch 0 ==============\n",
            "Cost : 6.931471805599452 , train_accuracy : 78.09948032665181 , val_accuracy : 73.55555555555556 , train_loss : 3.178669616581665 , val_loss : 1.064138284913836 , \n",
            "epoch 100 ==============\n",
            "Cost : 1.0019029806315936 , train_accuracy : 93.3184855233853 , val_accuracy : 92.22222222222223 , train_loss : 0.9974691248234274 , val_loss : 0.347555087691965 , \n",
            "epoch 200 ==============\n",
            "Cost : 0.7429246354422483 , train_accuracy : 94.80326651818856 , val_accuracy : 93.55555555555556 , train_loss : 0.7413971557225089 , val_loss : 0.261892603506192 , \n",
            "epoch 300 ==============\n",
            "Cost : 0.6319031027760252 , train_accuracy : 95.32293986636971 , val_accuracy : 94.0 , train_loss : 0.6310941264705995 , val_loss : 0.22545495872762944 , \n",
            "epoch 400 ==============\n",
            "Cost : 0.5673001386149887 , train_accuracy : 95.39717891610988 , val_accuracy : 95.11111111111111 , train_loss : 0.5667837585864851 , val_loss : 0.20457616889379654 , \n",
            "epoch 500 ==============\n",
            "Cost : 0.5238276934491689 , train_accuracy : 95.61989606533037 , val_accuracy : 95.11111111111111 , train_loss : 0.5234616212891906 , val_loss : 0.1908063952128049 , \n",
            "epoch 600 ==============\n",
            "Cost : 0.4919557358411363 , train_accuracy : 95.91685226429102 , val_accuracy : 95.11111111111111 , train_loss : 0.49167827479147097 , val_loss : 0.18094197797668016 , \n",
            "epoch 700 ==============\n",
            "Cost : 0.4672336110762738 , train_accuracy : 96.58500371195248 , val_accuracy : 95.55555555555556 , train_loss : 0.4670134044730649 , val_loss : 0.17347878646581089 , \n",
            "epoch 800 ==============\n",
            "Cost : 0.44728089160799517 , train_accuracy : 96.73348181143281 , val_accuracy : 95.55555555555556 , train_loss : 0.44710018206714275 , val_loss : 0.1676092964266548 , \n",
            "epoch 900 ==============\n",
            "Cost : 0.430698146129611 , train_accuracy : 96.73348181143281 , val_accuracy : 95.55555555555556 , train_loss : 0.4305460538099056 , val_loss : 0.16285782785181216 , \n",
            "epoch 1000 ==============\n",
            "Cost : 0.4166030376518394 , train_accuracy : 96.80772086117298 , val_accuracy : 95.55555555555556 , train_loss : 0.41647248470080445 , val_loss : 0.15892435998335053 , \n",
            "epoch 1100 ==============\n",
            "Cost : 0.4044084195168367 , train_accuracy : 96.95619896065331 , val_accuracy : 95.33333333333333 , train_loss : 0.4042945789953199 , val_loss : 0.15560944267392118 , \n",
            "epoch 1200 ==============\n",
            "Cost : 0.39370645676300614 , train_accuracy : 97.10467706013362 , val_accuracy : 96.0 , train_loss : 0.3936059089713004 , val_loss : 0.1527748182825791 , \n",
            "epoch 1300 ==============\n",
            "Cost : 0.3842037995349847 , train_accuracy : 97.10467706013362 , val_accuracy : 96.0 , train_loss : 0.3841140444675985 , val_loss : 0.15032132136763593 , \n",
            "epoch 1400 ==============\n",
            "Cost : 0.3756832415352451 , train_accuracy : 97.32739420935413 , val_accuracy : 96.22222222222223 , train_loss : 0.37560240278609386 , val_loss : 0.1481757797230046 , \n",
            "epoch 1500 ==============\n",
            "Cost : 0.3679799759675304 , train_accuracy : 97.40163325909428 , val_accuracy : 96.22222222222223 , train_loss : 0.3679066132777616 , val_loss : 0.14628289396850544 , \n",
            "epoch 1600 ==============\n",
            "Cost : 0.3609663114683437 , train_accuracy : 97.40163325909428 , val_accuracy : 96.22222222222223 , train_loss : 0.3608992977917505 , val_loss : 0.14460001040637832 , \n",
            "epoch 1700 ==============\n",
            "Cost : 0.3545415036329605 , train_accuracy : 97.47587230883445 , val_accuracy : 96.22222222222223 , train_loss : 0.3544799420311463 , val_loss : 0.14309364682077833 , \n",
            "epoch 1800 ==============\n",
            "Cost : 0.3486247946888612 , train_accuracy : 97.55011135857461 , val_accuracy : 96.22222222222223 , train_loss : 0.3485679606560841 , val_loss : 0.14173711874166833 , \n",
            "epoch 1900 ==============\n",
            "Cost : 0.34315053000575596 , train_accuracy : 97.62435040831477 , val_accuracy : 96.22222222222223 , train_loss : 0.34309783051586884 , val_loss : 0.14050887797190434 , \n"
          ],
          "name": "stdout"
        }
      ]
    },
    {
      "cell_type": "markdown",
      "metadata": {
        "id": "LuIi-KsprZpv",
        "colab_type": "text"
      },
      "source": [
        "# 5. Visualizing the performance of the model"
      ]
    },
    {
      "cell_type": "markdown",
      "metadata": {
        "id": "zPSXGux-renH",
        "colab_type": "text"
      },
      "source": [
        "The fit method returns a history object which holds the metric values on each epoch. We'll use it to visualize the model's performance."
      ]
    },
    {
      "cell_type": "code",
      "metadata": {
        "id": "0CYc6tYfjgwY",
        "colab_type": "code",
        "outputId": "47b6acda-0138-444e-c507-bb2f2cae8abf",
        "colab": {
          "base_uri": "https://localhost:8080/",
          "height": 34
        }
      },
      "source": [
        "history.keys()"
      ],
      "execution_count": 22,
      "outputs": [
        {
          "output_type": "execute_result",
          "data": {
            "text/plain": [
              "dict_keys(['train_accuracy', 'val_accuracy', 'train_loss', 'val_loss'])"
            ]
          },
          "metadata": {
            "tags": []
          },
          "execution_count": 22
        }
      ]
    },
    {
      "cell_type": "markdown",
      "metadata": {
        "id": "EbtFhoJ0royv",
        "colab_type": "text"
      },
      "source": [
        "We define an axis for the epochs."
      ]
    },
    {
      "cell_type": "code",
      "metadata": {
        "id": "AveCsjYvjpoP",
        "colab_type": "code",
        "colab": {}
      },
      "source": [
        "epochs = range(0, 2000, 100)"
      ],
      "execution_count": 0,
      "outputs": []
    },
    {
      "cell_type": "markdown",
      "metadata": {
        "id": "LE1a2duhrrN9",
        "colab_type": "text"
      },
      "source": [
        "Here we plot the accuracy for the training and validation sets as well as the loss metrics for both. This helps us see the performance of the model, which we can use to optimize the hyperparameters for example and analyzes where our model did wrong."
      ]
    },
    {
      "cell_type": "code",
      "metadata": {
        "id": "4qwHf06Og1vN",
        "colab_type": "code",
        "outputId": "5d25bd76-068a-4c93-d61f-47a65353957e",
        "colab": {
          "base_uri": "https://localhost:8080/",
          "height": 295
        }
      },
      "source": [
        "plt.plot(epochs, history['train_accuracy'])\n",
        "plt.plot(epochs, history['val_accuracy'])\n",
        "plt.title('model accuracy')\n",
        "plt.ylabel('accuracy')\n",
        "plt.xlabel('epoch')\n",
        "plt.legend(['train', 'test'], loc='upper left')\n",
        "plt.show()"
      ],
      "execution_count": 24,
      "outputs": [
        {
          "output_type": "display_data",
          "data": {
            "image/png": "[encoded data removed]",
            "text/plain": [
              "<Figure size 432x288 with 1 Axes>"
            ]
          },
          "metadata": {
            "tags": []
          }
        }
      ]
    },
    {
      "cell_type": "code",
      "metadata": {
        "id": "CVbisg08hdDk",
        "colab_type": "code",
        "outputId": "565d9af0-ea48-46c9-c793-a06204092c07",
        "colab": {
          "base_uri": "https://localhost:8080/",
          "height": 295
        }
      },
      "source": [
        "plt.plot(epochs, history['train_loss'])\n",
        "plt.plot(epochs, history['val_loss'])\n",
        "plt.title('model loss')\n",
        "plt.ylabel('loss')\n",
        "plt.xlabel('epoch')\n",
        "plt.legend(['train', 'test'], loc='upper left')\n",
        "plt.show()"
      ],
      "execution_count": 25,
      "outputs": [
        {
          "output_type": "display_data",
          "data": {
            "image/png": "[encoded data removed]",
            "text/plain": [
              "<Figure size 432x288 with 1 Axes>"
            ]
          },
          "metadata": {
            "tags": []
          }
        }
      ]
    },
    {
      "cell_type": "markdown",
      "metadata": {
        "id": "XVfCAtJ2r-q4",
        "colab_type": "text"
      },
      "source": [
        "Here we assess the final accuracy and loss of the model on the \"test set\" (here it's the same as the validation set, but it shouldn't be the case)"
      ]
    },
    {
      "cell_type": "code",
      "metadata": {
        "id": "50QjqFc1asxT",
        "colab_type": "code",
        "outputId": "44b14370-f2c0-4061-f676-d1bbf93aae59",
        "colab": {
          "base_uri": "https://localhost:8080/",
          "height": 34
        }
      },
      "source": [
        "predictions = logreg.predict(x_test)\n",
        "acc = logreg.accuracy_score(predictions, y_test)\n",
        "predictions_proba = logreg.predict_proba(x_test)\n",
        "loss = logreg.loss(predictions_proba, y_test)\n",
        "\n",
        "print(\"Accuracy : {}, Loss : {}\".format(acc, loss))"
      ],
      "execution_count": 26,
      "outputs": [
        {
          "output_type": "stream",
          "text": [
            "Accuracy : 89.11111111111111, Loss : 0.1394020019271515\n"
          ],
          "name": "stdout"
        }
      ]
    },
    {
      "cell_type": "markdown",
      "metadata": {
        "id": "pv5vHKS8sJWu",
        "colab_type": "text"
      },
      "source": [
        "The confusion matrix allows us to go more in detail for classification problems, to see which labels the model misinterprets as others. This can be used to calculate precision, recall and f1-score which are much more good measures for classification problems since accuracy can be a misleading metric. "
      ]
    },
    {
      "cell_type": "code",
      "metadata": {
        "id": "Q7G8efJBcVAh",
        "colab_type": "code",
        "colab": {}
      },
      "source": [
        "import seaborn as sns\n",
        "from sklearn import metrics"
      ],
      "execution_count": 0,
      "outputs": []
    },
    {
      "cell_type": "code",
      "metadata": {
        "id": "mUqw8YlxmiUU",
        "colab_type": "code",
        "colab": {}
      },
      "source": [
        "y_test_cat = np.argmax(y_test, axis=1)\n",
        "predictions_cat = np.argmax(predictions, axis=1)"
      ],
      "execution_count": 0,
      "outputs": []
    },
    {
      "cell_type": "code",
      "metadata": {
        "id": "enie3HqZbl83",
        "colab_type": "code",
        "outputId": "82bef153-f15f-4382-a716-1a22159c7eab",
        "colab": {
          "base_uri": "https://localhost:8080/",
          "height": 526
        }
      },
      "source": [
        "cm = metrics.confusion_matrix(y_test_cat, predictions_cat)\n",
        "plt.figure(figsize=(9,9))\n",
        "sns.heatmap(cm, annot=True, fmt=\".3f\", linewidths=.5, square = True, cmap = 'Blues_r');\n",
        "plt.ylabel('Actual label');\n",
        "plt.xlabel('Predicted label');\n",
        "all_sample_title = 'Accuracy Score: {0}'.format(acc)\n",
        "plt.title(all_sample_title, size = 15);"
      ],
      "execution_count": 34,
      "outputs": [
        {
          "output_type": "display_data",
          "data": {
            "image/png": "[encoded data removed]",
            "text/plain": [
              "<Figure size 648x648 with 2 Axes>"
            ]
          },
          "metadata": {
            "tags": []
          }
        }
      ]
    }
  ]
}